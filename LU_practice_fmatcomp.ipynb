{
 "cells": [
  {
   "cell_type": "markdown",
   "metadata": {},
   "source": [
    "# Практическая задача (36 баллов)"
   ]
  },
  {
   "cell_type": "markdown",
   "metadata": {},
   "source": [
    "В этой задаче мы поработаем с разреженными системами, в том числе научимся быстро пересчитывать решение при изменениях ранга 1 в матрице левой части."
   ]
  },
  {
   "cell_type": "code",
   "execution_count": 73,
   "metadata": {},
   "outputs": [],
   "source": [
    "import numpy as np\n",
    "import matplotlib.pyplot as plt\n",
    "%matplotlib inline"
   ]
  },
  {
   "cell_type": "markdown",
   "metadata": {},
   "source": [
    "### Расчёт напряжений в системе резисторов\n",
    "\n",
    "При конструировании сверхбольших интегральных схем (СБИС, very large scale integration, VLSI) одной из базовых задачей является расчёт напряжений в электрических схемах довольно внушительных размеров. Мы рассмотрим модельный пример: сетку $m \\times n$ с резисторами сопротивления $R$.\n",
    "\n",
    "![Сетка из резисторов](resistors.svg)\n",
    "\n",
    "Потенциалы в узлах сетки обозначим $\\varphi_{ij}$, это и будут наши неизвестные. Давайте также считать, что к противоположным углам сетки ($(1,1)$ и $(m,n)$) приложена разность потенциалов $U$. Соответственно, в левый верхний угол втекает (неизвестный) ток $I$, и такой же ток вытекает из правого нижнего угла.\n",
    "\n",
    "Для решения системы нам будет достаточно закона Ома и первого закона Кирхгофа. Именно, для каждого резистора легко выразить текущий через него ток. Например, для горизонтального резистора между узлами $(i,j)$ и $(i,j+1)$ ток равен $I_{i,j} = (\\varphi_{ij} - \\varphi_{i,j+1})/R$. Далее применяем первый закон Кирхгофа для каждого узла $(i,j)$, то есть приравниваем сумму втекающих токов к сумме вытекающих. Для внутреннего узла получим такое равенство:\n",
    "$$\n",
    "\\frac{\\varphi_{i,j-1} - \\varphi_{i,j}}{R} + \\frac{\\varphi_{i-1,j} - \\varphi_{i,j}}{R} - \\frac{\\varphi_{i,j} - \\varphi_{i,j+1}}{R} - \\frac{\\varphi_{i,j} - \\varphi_{i+1,j}}{R} = 0.\\tag{1}\n",
    "$$\n",
    "На границе, например, верхней (то есть $i = 1$), будет отсутствовать член $\\varphi_{i-1,j}-\\varphi_{i, j}$, а в углу, например, $(1,n)$, будет дополнительно отсутствовать член $\\varphi_{i,j}-\\varphi_{i, j+1}$. В углах $(1,1)$ и $(m, n)$, однако, ситуация особая: в первом есть дополнительный втекающий неизвестный ток $I$, а во втором этот же ток вытекает.\n",
    "В результате получим систему на $\\varphi_{i,j}$ и $I$:\n",
    "$$\n",
    "\\left[ \\begin{array}{ccccc|c}\n",
    "   &&   && &  R \\\\\n",
    "   &&   && &  0 \\\\\n",
    "   && A && &  \\vdots  \\\\\n",
    "   &&   && &  0 \\\\\n",
    "   &&   && & -R \\\\\n",
    "   \\hline\n",
    "1 & 0 & \\dots &  0 & -1 & 0\n",
    "\\end{array}\n",
    "\\right]\n",
    "\\begin{bmatrix}\n",
    "\\varphi_{11} \\\\\n",
    "\\vdots       \\\\\n",
    "\\vdots       \\\\\n",
    "\\vdots       \\\\\n",
    "\\varphi_{mn}  \\\\\n",
    "I\n",
    "\\end{bmatrix}\n",
    "=\n",
    "\\begin{bmatrix}\n",
    "0 \\\\\n",
    "\\vdots       \\\\\n",
    "\\vdots       \\\\\n",
    "\\vdots       \\\\\n",
    "0  \\\\\n",
    "U\n",
    "\\end{bmatrix}\n",
    "$$\n",
    "Последнее уравнение есть $\\varphi_{11}-\\varphi_{mn} = U$.\n",
    "\n",
    "Разберёмся с видом матрицы $A$. Она имеет размеры $mn \\times mn$ и индексируется двумя парами индексов $ij$ и $i'j'$. Перепишем уравнение (2) в виде \n",
    "$$\n",
    "(\\varphi_{i,j-1} - 2\\varphi_{i,j} + \\varphi_{i,j+1}) + (\\varphi_{i-1,j} - 2\\varphi_{i,j} + \\varphi_{i+1,j}) = 0.\\tag{2}\n",
    "$$\n",
    "Если переписать столбец $\\varphi$ с элементами $\\varphi_{ij}$ в матрицу $\\Phi\\in\\mathbb{R}^{m \\times n}$ естественным образом (то есть так, чтобы $\\mathrm{vec}(\\Phi) = \\varphi$), то ясно, что первое слагаемое в (2) действует на столбцы матрицы $\\Phi$, а второе &mdash; на строки. То есть $A \\varphi  = \\mathrm{vec}(\\Phi A_n) + \\mathrm{vec}(A_m \\Phi)$, где $A_n \\in \\mathbb{R}^{n \\times n}$ и $A_m \\in \\mathbb{R}^{m \\times m}$ имеют вид\n",
    "$$\n",
    "\\begin{bmatrix}\n",
    "-1 & 1 & &  \\\\\n",
    "1 & -2 & 1 & \\\\\n",
    "  &   & \\ddots &  \\\\\n",
    "  &     &    1 & -1\n",
    " \\end{bmatrix}.\n",
    "$$\n",
    "По уже известной нам формуле для $\\mathrm{vec}(\\cdot)$ получается, что $A = A_n \\otimes I_m + I_n \\otimes A_m$. Операция в правой части ещё называется *Кронекеровой суммой* матриц $A_n$ и $A_m$ и обозначается $A_n \\oplus A_m$ (можете проверить, что такая \"сумма\" не имеет такого интуитивного свойство суммы, как коммутативность, т.е. в общем случае $A_m \\oplus A_n \\neq A_n \\oplus A_m$).\n",
    "\n",
    "**Обратите внимание**, что система получилась линейно зависимой: если сложить все строки, кроме последней, получится нулевая строка (физически это отвечает тому, что все потенциалы можно сдвинуть на одинаковую константу).\n",
    "Поэтому мы удалим предпоследнюю строку (не потеряв никакой информации, ведь она равнялась минус сумме остальных), а вместо неё добавим условие $\\varphi_{mn} = 0$, таким образом фиксируя один из потенциалов, чтобы уничтожить неопределённость. Обозначим получившуюся $(mn+1)\\times(mn+1)$ матрицу $B$."
   ]
  },
  {
   "cell_type": "markdown",
   "metadata": {},
   "source": [
    "## 1. Разреженное LU-разложение (16 баллов)"
   ]
  },
  {
   "cell_type": "markdown",
   "metadata": {
    "scrolled": true
   },
   "source": [
    "a. (**9 баллов**) Сформируйте разреженную матрицу решаемой системы в CSC формате. Для получения матриц $A_m, A_n$ используйте `scipy.sparse.spdiags`, а для сбора $A$ по $A_m, A_n$ используйте `scipy.sparse.kron` матрицы $A$. Обратите внимание, что в этом задании нельзя собирать $A$ или $A_m, A_n$ с использование операций с плотными матрицами."
   ]
  },
  {
   "cell_type": "code",
   "execution_count": 74,
   "metadata": {},
   "outputs": [],
   "source": [
    "from scipy import sparse\n",
    "\n",
    "def make_A(m, n):\n",
    "    \"Returns sparse mn x mn matrix A\"\n",
    "    diags = np.array([-1, 0, 1])\n",
    "    data_n = np.array([[1] * n, [-1] + [-2] * (n - 2) + [-1], [1] * n])\n",
    "    data_m = np.array([[1] * m, [-1] + [-2] * (m - 2) + [-1], [1] * m])\n",
    "    An = sparse.spdiags(data_n, diags, n, n, format='lil')\n",
    "    Am = sparse.spdiags(data_m, diags, m, m, format='lil')\n",
    "    A = sparse.kron(An, sparse.eye(m), format='lil') + sparse.kron(sparse.eye(n), Am, format='lil')\n",
    "    return A\n",
    "    \n",
    "def make_mat(m, n, R):\n",
    "    \"Returns sparse (mn + 1) x (mn + 1) matrix of the system in CSC format\"\n",
    "    A = make_A(m, n)\n",
    "    A[m * n - 1, :] = 0\n",
    "    A[m * n - 1, m * n - 1] = 1\n",
    "    res = sparse.vstack([sparse.vstack([A, [1] + [0] * (m * n - 2) + [-1]]).T, [R] + [0] * (m * n - 2) + [0] + [0]]).T\n",
    "    return res.tocsc()"
   ]
  },
  {
   "cell_type": "markdown",
   "metadata": {},
   "source": [
    "b. (**7 баллов**) Заполните класс `Solver`, который при инициализации выполнит разреженное LU-разложение с помощью библиотеки `scipy.sparse.linalg` и функции `scipy.sparse.linalg.splu`, а затем будет уметь решать систему для заданной правой части."
   ]
  },
  {
   "cell_type": "code",
   "execution_count": 75,
   "metadata": {},
   "outputs": [],
   "source": [
    "import scipy.sparse.linalg\n",
    "\n",
    "class Solver:\n",
    "    def __init__(self, m, n, R):\n",
    "        A = make_mat(m, n, R)\n",
    "        self.m = m\n",
    "        self.n = n\n",
    "        self.R = R\n",
    "        self.solver = scipy.sparse.linalg.splu(A)\n",
    "    \n",
    "    def solve(self, right):\n",
    "        \"Solves the system for given right part\"\n",
    "        res = self.solver.solve(right)\n",
    "        return res\n",
    "\n",
    "    def solve_voltage(self, U):\n",
    "        \"Solves the updated system for given voltage\"\n",
    "        right = np.array([0] * (m * n) + [U])\n",
    "        res = self.solve(right)\n",
    "        return res"
   ]
  },
  {
   "cell_type": "markdown",
   "metadata": {},
   "source": [
    "Решим систему и визуализируем полученное решение, чтобы понять, как текут токи."
   ]
  },
  {
   "cell_type": "code",
   "execution_count": 76,
   "metadata": {},
   "outputs": [],
   "source": [
    "def visualize(m, n, R, solution, resistance_coeffs={}):\n",
    "    plt.axis('off')\n",
    "    max_current = 0\n",
    "    lines = []\n",
    "    for i in range(m):\n",
    "        for j in range(n - 1):\n",
    "            resistance = R * resistance_coeffs.get((i, j), 1)\n",
    "            current = (solution[j * m + i] - solution[(j + 1) * m + i]) / resistance\n",
    "            dx = 0.2 if current > 0 else -0.2\n",
    "            plt.arrow(j+0.5, -i, dx, 0, shape='full', lw=2, length_includes_head=True, head_width=.10, color='blue')\n",
    "            max_current = max(max_current, current)\n",
    "            lines += plt.plot([j, j + 1], [-i, -i], color='blue', lw=abs(current))\n",
    "    for i in range(m - 1):\n",
    "        for j in range(n):\n",
    "            current = (solution[j * m + i] - solution[j * m + i + 1]) / R\n",
    "            dy = -0.1 if current > 0 else 0.1\n",
    "            plt.arrow(j, -i - 0.5, 0, dy, shape='full', lw=2, length_includes_head=True, head_width=.08, color='blue')\n",
    "            max_current = max(max_current, current)\n",
    "            lines += plt.plot([j, j], [-i, -i - 1], color='blue', lw=abs(current))\n",
    "    for l in lines:\n",
    "        l.set_linewidth(l.get_linewidth() * 4. / max_current)"
   ]
  },
  {
   "cell_type": "code",
   "execution_count": 77,
   "metadata": {},
   "outputs": [
    {
     "data": {
      "image/png": "[encoded data removed]",
      "text/plain": [
       "<Figure size 432x288 with 1 Axes>"
      ]
     },
     "metadata": {
      "needs_background": "light"
     },
     "output_type": "display_data"
    }
   ],
   "source": [
    "m, n, R = 3, 8, 1.\n",
    "solver = Solver(m, n, R)\n",
    "visualize(m, n, R, solver.solve_voltage(220.))"
   ]
  },
  {
   "cell_type": "markdown",
   "metadata": {},
   "source": [
    "Проверьте, что ваш солвер работает для больших систем."
   ]
  },
  {
   "cell_type": "code",
   "execution_count": 78,
   "metadata": {},
   "outputs": [],
   "source": [
    "m, n, R = 500, 500, 1.\n",
    "solver = Solver(m, n, R)\n",
    "_ = solver.solve_voltage(220.)"
   ]
  },
  {
   "cell_type": "markdown",
   "metadata": {},
   "source": [
    "## 2. Обновления ранга 1 (20 баллов)"
   ]
  },
  {
   "cell_type": "markdown",
   "metadata": {},
   "source": [
    "Представим теперь, что в процессе работы резисторы в нашей системе могут менять своё сопротивление, например, при перегреве проводник может потерять проводимость ($R_{i,j} = \\infty$) или, напротив, может произойти короткое замыкание ($R_{i,j} = 0$). При таких локальных изменениях нет нужды строить и решать заново всю нашу линейную систему.\n",
    "\n",
    "a. (**8 баллов**) Будем считать для простоты, что\n",
    "  1. сопротивление меняется только в горизонтальных резисторах, не инцидентных узлам $(1,1)$ и $(m, n)$;\n",
    "  2. в каждом проводе сопротивление может измениться только один раз.\n",
    "\n",
    "Пусть сопротивление между узлами $(i,j)$ и $(i,j+1)$ изменилось с $R$ на $R'$. Пользуясь формулой (1), выпишите новую матрицу $B'$ в виде $B' = B + uv^\\top$.\n"
   ]
  },
  {
   "cell_type": "markdown",
   "metadata": {},
   "source": [
    "(можно написать решение в строчке ниже или на листке в теоретической части)"
   ]
  },
  {
   "cell_type": "markdown",
   "metadata": {},
   "source": [
    "**Решение:**   \n",
    "При изменении $R$ на $R'$ поменяются формулы (1) для узлов $(i, j)$ и $(i, j + 1)$. Сначала рассмотрим узел $(i, j)$.\n",
    "$$\n",
    "\\frac{\\varphi_{i,j-1} - \\varphi_{i,j}}{R} + \\frac{\\varphi_{i-1,j} - \\varphi_{i,j}}{R} - \\frac{\\varphi_{i,j} - \\varphi_{i,j+1}}{R} - \\frac{\\varphi_{i,j} - \\varphi_{i+1,j}}{R} = 0.\\tag{1}\n",
    "$$  \n",
    "Тогда ток между узлами $(i, j)$ и $(i, j + 1)$ будет равен $I_{ij} = \\frac{\\varphi_{i,j} - \\varphi_{i,j+1}}{R'}$. Тогда подставляя такой ток в формулу (1) получаем:  \n",
    "$$\n",
    "\\frac{\\varphi_{i,j-1} - \\varphi_{i,j}}{R} + \\frac{\\varphi_{i-1,j} - \\varphi_{i,j}}{R} - \\frac{\\varphi_{i,j} - \\varphi_{i,j+1}}{R'} - \\frac{\\varphi_{i,j} - \\varphi_{i+1,j}}{R} = 0  \n",
    "$$ \n",
    "$$\n",
    "(\\varphi_{i,j-1} - \\varphi_{i,j}) + (\\varphi_{i-1,j} - \\varphi_{i,j}) - (\\varphi_{i,j} - \\varphi_{i,j+1}) \\cdot \\frac{R}{R'} - (\\varphi_{i,j} - \\varphi_{i+1,j}) = 0\n",
    "$$  \n",
    "Теперь из получившегося выше уравнения вычтем уравнение (2) и получим:  \n",
    "$$\n",
    "-(\\varphi_{i,j} - \\varphi_{i,j+1}) \\cdot \\frac{R}{R'} + (\\varphi_{i,j} - \\varphi_{i,j+1}) = 0\n",
    "$$    \n",
    "$$\n",
    "-(\\varphi_{i,j} - \\varphi_{i,j+1}) \\cdot \\frac{R - R'}{R'} = 0\n",
    "$$   \n",
    "Тогда для узла $(i, j)$ уравнение изменится так: к (2) нужно прибавить уравнение выше. Тогда в матрице A нужно из элемента, который отвечает за $\\varphi_{i,j}$ вычесть $\\frac{R-R'}{R'}$ и к элементу, который отвечает за $\\varphi_{i,j+1}$ прибавить $\\frac{R-R'}{R'}$.   \n",
    "Теперь рассмотрим узел $(i, j+1)$. Из формулы (1) при изменении $R$ на $R'$ получим:  \n",
    "$$\n",
    "(\\varphi_{i,j} - \\varphi_{i,j+1}) \\cdot \\frac{R}{R'} + (\\varphi_{i-1,j+1} - \\varphi_{i,j+1}) - (\\varphi_{i,j+1} - \\varphi_{i,j+2}) - (\\varphi_{i,j+1} - \\varphi_{i+1,j+1}) = 0\n",
    "$$   \n",
    "Теперь аналогично предыдущему узлу вычтем из этого уравнения (2) и получим:   \n",
    "$$\n",
    "(\\varphi_{i,j} - \\varphi_{i,j+1}) \\cdot \\frac{R}{R'} - (\\varphi_{i,j} - \\varphi_{i,j+1}) = 0\n",
    "$$    \n",
    "$$\n",
    "(\\varphi_{i,j} - \\varphi_{i,j+1}) \\cdot \\frac{R - R'}{R'} = 0\n",
    "$$   \n",
    "Тогда для узла $(i, j+1)$ уравнение изменится так: к (2) нужно прибавить уравнение выше. Тогда в матрице A нужно к элементу, который отвечает за $\\varphi_{i,j}$ прибавить $\\frac{R-R'}{R'}$ и из элемента, который отвечает за $\\varphi_{i,j+1}$ вычесть $\\frac{R-R'}{R'}$.   \n",
    "vec$(\\Phi) = [\\varphi_{11}, \\varphi_{21},..., \\varphi_{12}, \\varphi_{22},..., \\varphi_{mn}]$. А значит в матрице B элементы соответствующие $\\varphi_{i,j}$ и $\\varphi_{i,j+1}$ будут находится по индексам $(mj+i, mj+i)$, $(m(j+1)+i, mj+i)$, $(mj+i, m(j+1)+i)$, $(m(j+1)+i, m(j+1)+i)$. Тогда в итоге матрица B изменится так:   \n",
    "$$\n",
    "B[mj+i, mj+i] = B[mj+i, mj+i] - \\frac{R - R'}{R'}\n",
    "$$\n",
    "$$\n",
    "B[m(j+1)+i, mj+i] = B[m(j+1)+i, mj+i] + \\frac{R - R'}{R'}\n",
    "$$\n",
    "$$\n",
    "B[mj+i, m(j+1)+i] = B[mj+i, m(j+1)+i] + \\frac{R - R'}{R'}\n",
    "$$\n",
    "$$\n",
    "B[m(j+1)+i, m(j+1)+i] = B[m(j+1)+i, m(j+1)+i] - \\frac{R - R'}{R'}\n",
    "$$    \n",
    "Теперь заметим, что такому изменению соответствуют вектор $u$, в котором везде нули, кроме $(mj+i)$ места, где стоит 1 и $(m(j+1)+i)$ места, где стоит -1; и вектор $v$, в котором везде нули, кроме $(mj+i)$ места, где стоит $-\\frac{R - R'}{R'}$ и $(m(j+1)+i)$ места, где стоит $\\frac{R - R'}{R'}$."
   ]
  },
  {
   "cell_type": "markdown",
   "metadata": {},
   "source": [
    "Далее воспользуемся формулой Шермана-Моррисона для обращения матрицы $B + uv^\\top$:\n",
    "$$\n",
    "(B + uv^\\top)^{-1} = B^{-1} - \\frac{B^{-1}uv^\\top B^{-1}}{1 + v^\\top B^{-1}u}.\n",
    "$$\n",
    "\n",
    "b. (**12 баллов**) Напишите класс `UpdatableSolver`, использующий `Solver`, но вдобавок умеющий умножать сопротивление в заданном горизонтальном резисторе на заданное число."
   ]
  },
  {
   "cell_type": "code",
   "execution_count": 79,
   "metadata": {},
   "outputs": [],
   "source": [
    "class UpdatableSolver:\n",
    "    def __init__(self, m, n, R):\n",
    "        self.prev = None\n",
    "        self.u = None\n",
    "        self.v = None\n",
    "        self.m = m\n",
    "        self.n = n\n",
    "        self.R = R\n",
    "        self.B = make_mat(m, n, R)\n",
    "        self.solver = scipy.sparse.linalg.splu(self.B)\n",
    "        \n",
    "    def solve(self, right):\n",
    "        \"Solves the updated system for given right part\"\n",
    "        res = self.solver.solve(right)\n",
    "        return res\n",
    "    \n",
    "    def update(self, i, j, coeff):\n",
    "        \"\"\"\n",
    "            Updates the system so that the resistance between (i,j) and (i,j+1)\n",
    "            is mutiplied by coeff.\n",
    "        \"\"\"\n",
    "        m, n = self.m, self.n\n",
    "        sz = m * n + 1\n",
    "        cf = 1 - 1 / coeff\n",
    "        self.u = np.zeros((sz, 1))\n",
    "        self.v = np.zeros((sz, 1))\n",
    "        self.u[m * j + i][0] = 1\n",
    "        self.u[m * (j + 1) + i][0] = -1\n",
    "        self.v[m * j + i][0] = cf\n",
    "        self.v[m * (j + 1) + i][0] = -cf\n",
    "        rank_add = sparse.csc_matrix(self.u) @ sparse.csc_matrix(self.v.T)\n",
    "        self.B += rank_add\n",
    "        return\n",
    "    \n",
    "    def solve_voltage(self, U):\n",
    "        \"Solves the updated system for given voltage\"\n",
    "        if self.prev is None:\n",
    "            x = np.array([0] * (self.m * self.n + 1))\n",
    "            x[-1] = U\n",
    "            self.prev = self.solve(x)\n",
    "        else:\n",
    "            solve_u = self.solve(self.u)\n",
    "            res = solve_u * ((self.v.T @ self.prev) / (1 + self.v.T @ solve_u))\n",
    "            res = np.reshape(res, (-1,))\n",
    "            new = self.prev - res\n",
    "            self.prev = new\n",
    "        return self.prev"
   ]
  },
  {
   "cell_type": "markdown",
   "metadata": {},
   "source": [
    "Поэкспериментируем с изменением проводимости отдельных участков. Попробуем сильно увеличить сопротивление сначала одного, затем другого резистора в одном вертикальном ряду. "
   ]
  },
  {
   "cell_type": "code",
   "execution_count": 80,
   "metadata": {},
   "outputs": [
    {
     "data": {
      "image/png": "[encoded data removed]",
      "text/plain": [
       "<Figure size 432x288 with 1 Axes>"
      ]
     },
     "metadata": {
      "needs_background": "light"
     },
     "output_type": "display_data"
    },
    {
     "data": {
      "image/png": "[encoded data removed]",
      "text/plain": [
       "<Figure size 432x288 with 1 Axes>"
      ]
     },
     "metadata": {
      "needs_background": "light"
     },
     "output_type": "display_data"
    },
    {
     "data": {
      "image/png": "[encoded data removed]",
      "text/plain": [
       "<Figure size 432x288 with 1 Axes>"
      ]
     },
     "metadata": {
      "needs_background": "light"
     },
     "output_type": "display_data"
    }
   ],
   "source": [
    "m, n, R = 3, 8, 1.\n",
    "solver = UpdatableSolver(m, n, R)\n",
    "visualize(m, n, R, solver.solve_voltage(220.))\n",
    "plt.figure()\n",
    "coeff = 1000\n",
    "resistance_coeffs = {(1,3): coeff}\n",
    "solver.update(1, 3, coeff)\n",
    "visualize(m, n, R, solver.solve_voltage(220.), resistance_coeffs=resistance_coeffs)\n",
    "plt.figure()\n",
    "resistance_coeffs[(2,3)] = coeff\n",
    "solver.update(2, 3, coeff)\n",
    "visualize(m, n, R, solver.solve_voltage(220.), resistance_coeffs=resistance_coeffs)"
   ]
  },
  {
   "cell_type": "markdown",
   "metadata": {},
   "source": [
    "Также проверим, что новый солвер работает для больших систем."
   ]
  },
  {
   "cell_type": "code",
   "execution_count": 81,
   "metadata": {},
   "outputs": [],
   "source": [
    "m, n, R = 300, 300, 1.\n",
    "solver = UpdatableSolver(m, n, R)\n",
    "solver.solve_voltage(220.)\n",
    "solver.update(10, 20, 100.)\n",
    "solver.update(20, 30, 100.)\n",
    "solver.update(30, 40, 100.)\n",
    "_ = solver.solve_voltage(220.)"
   ]
  }
 ],
 "metadata": {
  "kernelspec": {
   "display_name": "Python 3",
   "language": "python",
   "name": "python3"
  },
  "language_info": {
   "codemirror_mode": {
    "name": "ipython",
    "version": 3
   },
   "file_extension": ".py",
   "mimetype": "text/x-python",
   "name": "python",
   "nbconvert_exporter": "python",
   "pygments_lexer": "ipython3",
   "version": "3.9.0"
  }
 },
 "nbformat": 4,
 "nbformat_minor": 2
}
